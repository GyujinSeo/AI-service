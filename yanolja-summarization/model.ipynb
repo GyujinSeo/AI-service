{
 "cells": [
  {
   "cell_type": "code",
   "execution_count": 3,
   "metadata": {},
   "outputs": [
    {
     "name": "stdout",
     "output_type": "stream",
     "text": [
      "Hello! How can I assist you today?\n"
     ]
    }
   ],
   "source": [
    "import os\n",
    "\n",
    "from openai import OpenAI\n",
    "\n",
    "OPENAI_API_KEY = os.getenv('OPENAI_API_KEY')\n",
    "\n",
    "client = OpenAI(api_key = OPENAI_API_KEY)\n",
    "\n",
    "completion = client.chat.completions.create(\n",
    "    model = 'gpt-3.5-turbo-0125',\n",
    "    messages = [{'role':'user', 'content':'hi'}],\n",
    "    temperature = 0.0\n",
    ")\n",
    "\n",
    "print(completion.choices[0].message.content)"
   ]
  },
  {
   "cell_type": "code",
   "execution_count": 4,
   "metadata": {},
   "outputs": [
    {
     "data": {
      "text/plain": [
       "[{'review': '서비스 및 위치가 매우 좋음', 'stars': 4, 'date': '3일 전'},\n",
       " {'review': '직원분들 친절하시고 잘 쉬다가 갑니다', 'stars': 5, 'date': '6일 전'},\n",
       " {'review': '다음에 또 올게요~', 'stars': 4, 'date': '2024.07.21'}]"
      ]
     },
     "execution_count": 4,
     "metadata": {},
     "output_type": "execute_result"
    }
   ],
   "source": [
    "import json\n",
    "with open('./res/reviews.json', 'r', encoding='utf-8') as f:\n",
    "    review_list = json.load(f)\n",
    "\n",
    "review_list[:3]"
   ]
  },
  {
   "cell_type": "code",
   "execution_count": 5,
   "metadata": {},
   "outputs": [
    {
     "data": {
      "text/plain": [
       "(175, 45)"
      ]
     },
     "execution_count": 5,
     "metadata": {},
     "output_type": "execute_result"
    }
   ],
   "source": [
    "good_cnt, bad_cnt = 0, 0\n",
    "for r in review_list:\n",
    "    if r['stars'] == 5:\n",
    "        good_cnt += 1\n",
    "    else:\n",
    "        bad_cnt += 1\n",
    "\n",
    "good_cnt, bad_cnt"
   ]
  },
  {
   "cell_type": "code",
   "execution_count": 6,
   "metadata": {},
   "outputs": [
    {
     "data": {
      "text/plain": [
       "['[REVIEW_START]서비스 및 위치가 매우 좋음[REVIEW_END]',\n",
       " '[REVIEW_START]다음에 또 올게요~[REVIEW_END]',\n",
       " '[REVIEW_START]주변에서 노느라 숙소에 있는 시간은 짧았지만,,  조계사뷰라 놀다보니 새벽 5시쯤 절에서 종도 치고 독특한 경험이었어요ㅋ[REVIEW_END]']"
      ]
     },
     "execution_count": 6,
     "metadata": {},
     "output_type": "execute_result"
    }
   ],
   "source": [
    "reviews_good, reviews_bad = [], []\n",
    "for r in review_list:\n",
    "    if r['stars'] == 5:\n",
    "        reviews_good.append('[REVIEW_START]' + r['review'] + '[REVIEW_END]')\n",
    "    else:\n",
    "        reviews_bad.append('[REVIEW_START]' + r['review'] + '[REVIEW_END]')\n",
    "\n",
    "reviews_bad[:3]\n"
   ]
  },
  {
   "cell_type": "code",
   "execution_count": 7,
   "metadata": {},
   "outputs": [],
   "source": [
    "reviews_good_text = '\\n'.join(reviews_good)\n",
    "reviews_bad_text = '\\n'.join(reviews_bad)"
   ]
  },
  {
   "cell_type": "code",
   "execution_count": 8,
   "metadata": {},
   "outputs": [
    {
     "data": {
      "text/plain": [
       "('[REVIEW_START]직원분들 친절하시고 잘 쉬다가 갑니다[REVIEW_END]\\n[REVIEW_START]항상 오면 깔끔하고 쾌적한 호텔입니다[REVIEW_END]\\n[REVIEW_START]더 좋아진것같습니다.[REVIEW_END]\\n[REVIEW_START]깨끗하고 친절해서 좋았어요[REVIEW_END]\\n[REVIEW_START]지리적 요건도 좋은것 같고 주차장 이용에도 편리했습니다.[REVIEW_END]\\n[REVIEW_START]편하게 쉬다가 갑니당~~[REVIEW_END]\\n[REVIEW_START]우선 접근성이 너무 좋구요(종로,광화문,경복궁,광장시장,인사동) 숙소도 청결하고 프론트 직원분들도 너무 친절하세요.. 건물에 식당도 있어서 너무나 편했어여..진짜 요기 추천이요..욕조 크게 필요하지 않으신분들은 미리 얘기하시면 욕조없는곳으로 배정해주시는데..전 없는쪽이 더 낫더라구요\\r\\n(사진이 용량이 너무 작아서 2장밖에 안올라가네여ㅜ)[REVIEW_END]\\n[REVIEW_START]잘쉬었다 왔습니다 역시나 편하네요[REVIEW_END]\\n[REVIEW_START]여자친구랑 편히 잘 쉬고 놀다 갑니당 방 깨끗하구 에어컨 잘 나와서 시원하네욤[REVIEW_END]\\n[REVIEW_START]최고에요~~~~~~[REVIEW_END]\\n[REVIEW_START]침대 너누 편해요. 단 주차비 내야하니 참조하세요[REVIEW_END]\\n[REVIEW_START]위치가 최상이네요. 시설도 깔끔하고, 뷰도 좋았어요. 인사동쪽으로 간다면 최상의 선택!![REVIEW_END]\\n[REVIEW_START]인사동 방문시에는 항상 이용하고 있습니다,.위치와 서비스 모두 만족합니다[REVIEW_END]\\n[REVIEW_START]친절하고 위치가 좋습니다[REVIEW_END]\\n[REVIEW_START]재방문 의사 1000%[REVIEW_END]\\n[REVIEW_START]깨끗하고 너무 좋았어요[REVIEW_END]\\n[REVIEW_START]위치도 아주좋고 숙소도 깨끗하고 좋아요~[REVIEW_END]\\n[REVIEW_START]잘쉬고놀다갑니다  감사[REVIEW_END]\\n[REVIEW_START]숙소는 말할 필요 없을것 같고 주변 인사동과 조계사 위로 경복궁을 도보로 품은 입지가 최고인 곳[REVIEW_END]\\n[REVIEW_START]3번째 방문인데 좋습니다! 주변관광지와 교통도 좋습니다.[REVIEW_END]\\n[REVIEW_START]인생 최고의 호텔입니다[REVIEW_END]\\n[REVIEW_START]안국역 근처에 놀거리도 많아서 좋아요[REVIEW_END]\\n[REVIEW_START]전체적으로 깔끔했어요! 기념일에 방문했슴니다.[REVIEW_END]\\n[REVIEW_START]나인트리인사동은 서울갈때마다 하루는 꼭 숙박하는 곳입니다. 시설이나 서비스 위치 뭐하나 빠지는 것 없는 최고의 숙소입니다. 이번에도 정말 편안하게 잘 쉬다 왔습니다. ^^[REVIEW_END]\\n[REVIEW_START]엄마랑 같이 이용했는데 위치도 좋고 깔끔하고 좋았습니다[REVIEW_END]\\n[REVIEW_START]시설도 깨끗하고 호텔문을 나오면 인사동이라 주변 관광하기 너무 편리합니다^^[REVIEW_END]\\n[REVIEW_START]인사동 접근성 좋아요. 숙소 깨끗합니다.[REVIEW_END]\\n[REVIEW_START]교통과 위치가 최고의 장점인 것 같아요! 주변에 시설 잘 즐기고 놀다가 갑니다~[REVIEW_END]\\n[REVIEW_START]위치가 너무 좋은곳에 있어요 교통편.편의점. 여러 시설들의 가까이에 있어서 이용하기 좋았고 시설도 청결하고 직원분들도 친절하고 좋았습니다\\n가을에도 호캉스할 계획인데 여기 또 연박할계획입니다\\n주변에 디저트맛집들의 진짜 많아서 나인트리에서 주무셔야 오픈런가능합니다[REVIEW_END]\\n[REVIEW_START]청결도에 대해 말이 많아서 좀 걱정했는데 개끗했고 인사동 중심에 위치해있어서 접근성도 좋았습니다![REVIEW_END]\\n[REVIEW_START]접근성, 시설, 위생 모든 면에서 만족했습니다.[REVIEW_END]\\n[REVIEW_START]시설, 위치 등 모든 면에서 만족하고 갑니다.[REVIEW_END]\\n[REVIEW_START]관광지에 있는 호텔이라 복도가 조금 소란스러웠지만 안국역 근처에 위치해있거 근처에 맛집과 궁궐이 가까워서 접근성이 좋아요![REVIEW_END]\\n[REVIEW_START]인사동 한복판에 위치해있어 무엇을 구경하려해도 접근성 아주 좋습니다[REVIEW_END]\\n[REVIEW_START]방 전체는 깔끔하고 즇았는데 세면대 머리카락 몇개는 안치워져 있고 프론트 직원도 그렇게 친절하다는 느낌은 아니였어 그치만 교통편이나 위치는 좋았어요[REVIEW_END]\\n[REVIEW_START]가격 위치 서비스 모두 최고였어요! 다음 서울 여행도 여기에서 꼭 묵고싶어요 ㅎㅎ 최고[REVIEW_END]\\n[REVIEW_START]잘 이용했습니다[REVIEW_END]\\n[REVIEW_START]나인트리 최고… 담에 또 예약할래요 위치도 시설도 넘 좋았습니다!!!![REVIEW_END]\\n[REVIEW_START]방음이 조금 안되는 것 빼고는 좋았어요![REVIEW_END]\\n[REVIEW_START]좋았어요\\n특히 카운터 엄청 친절하시네요![REVIEW_END]\\n[REVIEW_START]좋았습니다[REVIEW_END]\\n[REVIEW_START]굳굳굳굳굳[REVIEW_END]\\n[REVIEW_START]편안하게 좋은 휴식 취할 수 있었습니다.[REVIEW_END]\\n[REVIEW_START]서울만오면 비가와요 ^^ 그래도 편하게 잘 지내다왔어요. 주위에 맛집도 많아서 좋아요.[REVIEW_END]\\n[REVIEW_START]깨끗하고 좋아요~[REVIEW_END]\\n[REVIEW_START]자주 이용합니다[REVIEW_END]\\n[REVIEW_START]좋았습니다[REVIEW_END]\\n[REVIEW_START]자주갈거에여[REVIEW_END]\\n[REVIEW_START]주차비가 별도이긴하지만 좋아요^^[REVIEW_END]\\n[REVIEW_START]방이 무척 깨끗하고 뷰가 끝내줬어요~😊여자친구와 즐거운 시간을 보낼 수 있어서 너무 좋았네요! 이 가격에 이정도 서비스와 시설이라니..깜짝 놀랐어요! 앞으로 종종 이용할 것 같습니다!👋👏👏😆[REVIEW_END]\\n[REVIEW_START]위치 조하효[REVIEW_END]\\n[REVIEW_START]인사동과 종로 여행에 최고의 숙소입니다[REVIEW_END]\\n[REVIEW_START]잘쉬었습니다 편하고 좋네요[REVIEW_END]\\n[REVIEW_START]좋았습니다![REVIEW_END]\\n[REVIEW_START]잘쉬다가영[REVIEW_END]\\n[REVIEW_START]조계사 뷰 미쳤다[REVIEW_END]\\n[REVIEW_START]여자친구랑 인사동쪽에서 하룻밤 지내려구 예약. 둘다 서울 거주중이지만 편하게 숙소 근처 놀다 숙박할 목적. 근처 광화문. 익선동 등 맛집 접근성 최고. 카운터 직원분들 매우 친절. 룸  크기는 적당. 청결도 상급. 내부관리가 잘 되어 있다고 느낌. 방음이 아쉽단 후기가 있었는데 이용중 옆방소리는 없었고 퇴실 시간때 청소 소리, 복도에서 크게 이야기 하는 소리는 들림(이부분은 어딜가나 똑같음) 5성급 한강뷰나 1티어급 가려다 왔는데 가격도 착하구 모든면에서 만족. 재방문 의사 1000%.[REVIEW_END]\\n[REVIEW_START]가격도 괜찮고 위치도 좋고 잘 머물다가요![REVIEW_END]\\n[REVIEW_START]역시 나인트리 매번 좋습니다[REVIEW_END]\\n[REVIEW_START]다 좋았는데 배개밑 머리카락나오네요[REVIEW_END]\\n[REVIEW_START]인사동, 북촌등 접근성 좋고 룸 컨디션 좋습니다.[REVIEW_END]\\n[REVIEW_START]위치 너무 조하효..[REVIEW_END]\\n[REVIEW_START]욕조는 좁은편이고 생각보다 더 고급지고 친절하셔서 좋았고 접근성이 매우 좋아서 외국인분들도 많이 보였네요! 부대시설은 이용하지 않아서 잘 모르겠어요ㅎㅎ 추천![REVIEW_END]',\n",
       " '[REVIEW_START]서비스 및 위치가 매우 좋음[REVIEW_END]\\n[REVIEW_START]다음에 또 올게요~[REVIEW_END]\\n[REVIEW_START]주변에서 노느라 숙소에 있는 시간은 짧았지만,,  조계사뷰라 놀다보니 새벽 5시쯤 절에서 종도 치고 독특한 경험이었어요ㅋ[REVIEW_END]\\n[REVIEW_START]벽지가 한지라고는 하지만,,,  얼룩도 있고 깔끔해보이지 않아서 실망이었어요,  그래도 위치가 워낙 좋아서 잘 놀다 왔습니다. 가격이 좀 쎄긴해요ㅎ[REVIEW_END]\\n[REVIEW_START]위치가 좋고 객실상태도 괜찮았어요 가성비도 좋아서 또 올것 같아요[REVIEW_END]\\n[REVIEW_START]침대 너무 편해요 단 주차비 내야하니 참조하세요[REVIEW_END]\\n[REVIEW_START]명동에서 주차가능한 이가격대 숙소가 드문데\\r\\n접근성이나 편의시설은 만족해요\\r\\n그런데 객실분위기가 생각보다 칙칙하고\\r\\n침구와 바닥에 먼지가..ㅠ[REVIEW_END]\\n[REVIEW_START]인사동, 북촌동, 종각 등등 근처에 갈곳두 많구\\r\\n숙소두 깨끗하구 너무 좋아요\\r\\n엘베를 2번 타야하는게 살짝 번거롭지만\\r\\n그거빼구 다 좋아요[REVIEW_END]\\n[REVIEW_START]근처 볼거리 놀거리가 가까이 있어 편했으나 \\n조계사 고층뷰는 의미 없이 배정해 주었으며\\n객실 내 청결상태가 별로였음 욕조 머리카락, 수건의 먼지등\\n재방문 의사 없음[REVIEW_END]\\n[REVIEW_START]2월21일(수) 오전7시경, 카운터에 계시던 남자 직원 불친절\\n방음 최악[REVIEW_END]\\n[REVIEW_START]이번방은 수압이좀 약했고\\n여러번 이용했지만 이런적없었는데\\n침구에 머리카락이있었고\\n수건에서 냄새가났어요ㅠ\\n개선해주셔야할것같아요\\n전화하려다가 너무 피곤하고 힘들어서 그냥쉬다왔습니다[REVIEW_END]\\n[REVIEW_START]근처에 놀 수 있는 곳이 많아서 좋았어요[REVIEW_END]\\n[REVIEW_START]방음이 아예 안됩니다. 기껏 비싼돈주고 호텔왔는데 같은 층에 단체손님들인지 뭔지 새벽 5시까지 떠들고 쿵쿵치고 소리지르고 난리를 쳐서 한숨도 못잤습니다. 직원분들은 친절하셨지만 이렇게 하나도 방음이안되는 호텔은 처음이네요. 돈이 너무너무아깝고 화가납니다. 직원분들의 잘못은 아니지만, 단체손님이 들어와있으면 그 사이에 방을 배정하지않고 다른 층으로해주는 유도리가있었으면 참 좋았겠네요. 유감입니다. 두번다시 이 브랜드 호텔 이용안합니다.[REVIEW_END]\\n[REVIEW_START]서비스 : 친절합니다. 리셉션에 요구사항도 빠르게 들어주셨어요. 체크인 체크아웃 또한 무리없이 빠르게 진행됩니다. \\n숙소 청결도 : 바닥이나 욕조에 머리카락이 너무 많습니다. 어메니티도 아쉽습니다. 바디로션만 따로 있다거나 샤워스펀지가 없습니다. \\n시설 : 방이 좁긴하지만 동선에 따른 구조는 괜찮습니다. 조계사뷰는 그닥 특별하지 않습니다. 같은건물에 음식점이나 편의점 등 상점들이 가까이 있어 편리합니다. 자체 호텔안에 비지니스룸이라든가 짐보관도 용이해서 매우 좋습니다. \\n위치접근성 : 지하철역이나 버스정류장 바로 앞입니다. 바로미터 관광지입니다. \\n\\n*방음이 너무너무 안좋습니다. 이렇게 방음이 안되는 호텔은 손에 꼽는거 같네요. 바깥 문쪽도 위층 옆방 커텐치는 소리까지 다들립니다. 신경쓰여서 편히 쉬러 갔다가 더 피곤해졌네요. 다른건 다 좋고 단점도 이해해도 방음이 안좋은건 4성급은 아닌거같네요. \\n\\n나인트리 프리미어 호텔 인사동 중독지수 90%[REVIEW_END]\\n[REVIEW_START]구조가 다른 호텔에 비해 조금 좁은 느낌이 들었고요. 객실에 먼지가 좀 있고, 방음이 잘 안되서 조계사뷰 차도 에서 차소리가 많이 들려서 아쉬웠어요. 같은 건물 식당 이용은 편했지만, 밤 늦게 출출할 때랑 아침식사가 불가했어요. 그래도 저렴한 가격에 구경할 만한 것들이 많은 위치라서 가성비 호텔로는 만족합니다.[REVIEW_END]\\n[REVIEW_START]깨끗하고 주변 먹을거리가 많습니다[REVIEW_END]')"
      ]
     },
     "execution_count": 8,
     "metadata": {},
     "output_type": "execute_result"
    }
   ],
   "source": [
    "import datetime\n",
    "from dateutil import parser\n",
    "\n",
    "def preprocess_reviews(path = './res/reviews.json'):\n",
    "    with open('./res/reviews.json', 'r', encoding='utf-8') as f:\n",
    "        review_list\n",
    "\n",
    "    reviews_good, reviews_bad = [], []\n",
    "\n",
    "    current_date = datetime.datetime.now()\n",
    "    date_boundary = current_date - datetime.timedelta(days = 6 * 30)\n",
    "\n",
    "    for r in review_list:\n",
    "        review_date_str = r['date']\n",
    "        try:\n",
    "            review_date = parser.parse(review_date_str)\n",
    "        except(ValueError, TypeError):\n",
    "            review_date = current_date\n",
    "        \n",
    "        if review_date < date_boundary:\n",
    "            continue\n",
    "\n",
    "        if r['stars'] == 5:\n",
    "            reviews_good.append('[REVIEW_START]' + r['review'] + '[REVIEW_END]')\n",
    "        else:\n",
    "            reviews_bad.append('[REVIEW_START]' + r['review'] + '[REVIEW_END]')\n",
    "        \n",
    "    reviews_good_text = '\\n'.join(reviews_good)\n",
    "    reviews_bad_text = '\\n'.join(reviews_bad) \n",
    "\n",
    "    return reviews_good_text, reviews_bad_text\n",
    "\n",
    "good = preprocess_reviews()\n",
    "good"
   ]
  },
  {
   "cell_type": "code",
   "execution_count": 9,
   "metadata": {},
   "outputs": [],
   "source": [
    "def pairwise_eval(reviews, answer_a, answer_b):\n",
    "    eval_prompt = f\"\"\"[System]\n",
    "Please act as an impartial judge and evaluate the quality of the Korean summaries provided by two\n",
    "AI assistants to the set of user reviews on accommodations displayed below. You should choose the assistant that\n",
    "follows the user’s instructions and answers the user’s question better. Your evaluation\n",
    "should consider factors such as the helpfulness, relevance, accuracy, depth, creativity,\n",
    "and level of detail of their responses. Begin your evaluation by comparing the two\n",
    "responses and provide a short explanation. Avoid any position biases and ensure that the\n",
    "order in which the responses were presented does not influence your decision. Do not allow\n",
    "the length of the responses to influence your evaluation. Do not favor certain names of\n",
    "the assistants. Be as objective as possible. After providing your explanation, output your\n",
    "final verdict by strictly following this format: \"[[A]]\" if assistant A is better, \"[[B]]\"\n",
    "if assistant B is better, and \"[[C]]\" for a tie.\n",
    "[User Reviews]\n",
    "{reviews}\n",
    "[The Start of Assistant A’s Answer]\n",
    "{answer_a}\n",
    "[The End of Assistant A’s Answer]\n",
    "[The Start of Assistant B’s Answer]\n",
    "{answer_b}\n",
    "[The End of Assistant B’s Answer]\"\"\"\n",
    "    \n",
    "    completion = client.chat.completions.create(\n",
    "        model='gpt-4o-2024-05-13',\n",
    "        messages=[{'role': 'user', 'content': eval_prompt}],\n",
    "        temperature=0.0\n",
    "    )\n",
    "\n",
    "    return completion"
   ]
  },
  {
   "cell_type": "code",
   "execution_count": 10,
   "metadata": {},
   "outputs": [],
   "source": [
    "PROMPT_BASELINE = f\"\"\"아래 숙소 리뷰에 대해 5문장 내로 요약해줘.\"\"\""
   ]
  },
  {
   "cell_type": "code",
   "execution_count": 11,
   "metadata": {},
   "outputs": [
    {
     "name": "stdout",
     "output_type": "stream",
     "text": [
      "직원 친절, 깨끗한 호텔, 좋은 위치와 주차 편리, 편안한 휴식, 최고의 숙소.\n"
     ]
    }
   ],
   "source": [
    "reviews, _ = preprocess_reviews(path = './res/reviews.json')\n",
    "\n",
    "def summarize(reviews, prompt, temperature = 0.0, model = 'gpt-3.5-turbo-0125'):\n",
    "    prompt = prompt + '\\n\\n' + reviews\n",
    "\n",
    "    completion = client.chat.completions.create(\n",
    "        model = model,\n",
    "        messages = [{'role':'user', 'content': prompt}],\n",
    "        temperature=temperature\n",
    "    )\n",
    "    return completion\n",
    "\n",
    "print(summarize(reviews, PROMPT_BASELINE).choices[0].message.content)"
   ]
  },
  {
   "cell_type": "code",
   "execution_count": 12,
   "metadata": {},
   "outputs": [],
   "source": [
    "summary_real_20240526 = '위치가 매우 우수한 숙박시설로, 인사동과 조계사, 경복궁 등 관광지에 도보로 이동할 수 있는 편리한 위치에 있습니다. 객실은 깔끔하며 직원들의 친절한 서비스와 청결한 시설이 인상적입니다. 주변에는 맛집과 편의시설이 많아 편리하며, 교통 접근성도 좋습니다. 전체적으로 만족도가 높고 자주 방문하고 싶은 곳으로 손꼽히는 숙소로 평가됩니다.'"
   ]
  },
  {
   "cell_type": "code",
   "execution_count": 13,
   "metadata": {},
   "outputs": [
    {
     "name": "stdout",
     "output_type": "stream",
     "text": [
      "Assistant A의 요약은 매우 간결하고 핵심적인 키워드만을 나열한 반면, Assistant B의 요약은 보다 상세하고 구체적입니다. \n",
      "\n",
      "1. **도움성**: Assistant B는 숙소의 위치, 청결, 직원의 친절함, 주변 편의시설 등 다양한 측면을 언급하여 사용자에게 더 많은 정보를 제공합니다.\n",
      "2. **관련성**: 두 요약 모두 리뷰의 주요 포인트를 다루고 있지만, Assistant B는 더 많은 세부사항을 포함하여 리뷰의 내용을 더 충실히 반영합니다.\n",
      "3. **정확성**: Assistant B는 리뷰에서 언급된 여러 요소를 정확하게 요약하고 있습니다. 예를 들어, 관광지 접근성, 청결, 직원 친절도 등.\n",
      "4. **깊이**: Assistant B는 숙소의 여러 측면을 다루며 깊이 있는 요약을 제공합니다.\n",
      "5. **창의성**: Assistant B는 단순한 키워드 나열이 아닌, 문장으로 구성된 요약을 제공하여 읽기 쉽고 이해하기 쉽게 만듭니다.\n",
      "\n",
      "따라서, Assistant B의 요약이 더 나은 평가를 받을 만합니다.\n",
      "\n",
      "[[B]]\n"
     ]
    }
   ],
   "source": [
    "print(pairwise_eval(reviews, summarize(reviews, PROMPT_BASELINE).choices[0].message.content, summary_real_20240526).choices[0].message.content)"
   ]
  },
  {
   "cell_type": "code",
   "execution_count": 14,
   "metadata": {},
   "outputs": [
    {
     "data": {
      "text/plain": [
       "['직원 친절, 깔끔한 호텔, 좋아진 분위기, 친절하고 깨끗, 지리적 요건 용이.',\n",
       " '직원 친절, 깨끗한 숙소, 좋은 위치와 주변 시설, 재방문 의사 매우 높음, 편안하게 쉬었다 감 잡니다.',\n",
       " '직원 친절, 깨끗한 숙소, 좋은 위치와 주차편의, 편안한 숙박 경험을 강조하는 다양한 리뷰들이 있습니다.',\n",
       " '직원 친절, 깨끗하고 쾌적한 호텔, 위치 및 주차 편리, 휴식 취하기 좋음, 가격 대비 만족적인 숙소.',\n",
       " '직원 친절, 깔끔하고 쾌적한 숙소, 개선된 모습, 깨끗하고 친절한 서비스, 지리적 요건 우수함, 편안한 휴식 가능.',\n",
       " '직원 친절, 깨끗한 숙소, 좋은 위치, 편리한 주차장, 편안한 휴식 가능.',\n",
       " '직원 친절, 호텔 깔끔, 좋은 위치와 주차편리, 편안한 휴식 가능, 재방문 의사 있음',\n",
       " '직원 친절, 깨끗한 호텔, 좋은 위치와 주차 편리, 편안하고 휴식 가능, 아주 만족스러운 숙소 리뷰들을 받음.',\n",
       " '직원 친절, 깨끗한 호텔, 좋아진 모습, 친절하고 깨끗한 숙소, 지리적으로 편리함이 돋보임.',\n",
       " '직원 친절, 깨끗한 호텔, 좋아진 곳, 지리적 요건 우수, 편안한 숙박 경험']"
      ]
     },
     "execution_count": 14,
     "metadata": {},
     "output_type": "execute_result"
    }
   ],
   "source": [
    "eval_count = 10\n",
    "\n",
    "summarise_baseline = [summarize(reviews, PROMPT_BASELINE, temperature = 1.0).choices[0].message.content for _ in range(eval_count)]\n",
    "summarise_baseline"
   ]
  },
  {
   "cell_type": "code",
   "execution_count": 15,
   "metadata": {},
   "outputs": [
    {
     "name": "stderr",
     "output_type": "stream",
     "text": [
      "100%|██████████| 10/10 [00:37<00:00,  3.74s/it]"
     ]
    },
    {
     "name": "stdout",
     "output_type": "stream",
     "text": [
      "Wins: 0, Losses: 10, Ties: 0\n"
     ]
    },
    {
     "name": "stderr",
     "output_type": "stream",
     "text": [
      "\n"
     ]
    }
   ],
   "source": [
    "from tqdm import tqdm\n",
    "\n",
    "def pairwise_eval_batch(reviews, answers_a, answers_b):\n",
    "    a_cnt, b_cnt, draw_cnt = 0, 0, 0\n",
    "    for i in tqdm(range(len(answers_a))):\n",
    "        completion = pairwise_eval(reviews, answers_a[i], answers_b[i])\n",
    "        verdict_text = completion.choices[0].message.content\n",
    "\n",
    "        if '[[A]]' in verdict_text:\n",
    "            a_cnt += 1\n",
    "        elif '[[B]]' in verdict_text:\n",
    "            b_cnt += 1\n",
    "        elif '[[C]]' in verdict_text:\n",
    "            draw_cnt += 1\n",
    "        else:\n",
    "            print('Evaluation Error')\n",
    "    \n",
    "    return a_cnt, b_cnt, draw_cnt\n",
    "\n",
    "wins, losses, ties = pairwise_eval_batch(reviews, summarise_baseline, [summary_real_20240526 for _ in range(len(summarise_baseline))])\n",
    "print(f\"Wins: {wins}, Losses: {losses}, Ties: {ties}\")\n"
   ]
  },
  {
   "cell_type": "markdown",
   "metadata": {},
   "source": [
    "모델 고도화 1 - 조건들 명시"
   ]
  },
  {
   "cell_type": "code",
   "execution_count": 16,
   "metadata": {},
   "outputs": [
    {
     "name": "stderr",
     "output_type": "stream",
     "text": [
      "100%|██████████| 10/10 [00:46<00:00,  4.67s/it]"
     ]
    },
    {
     "name": "stdout",
     "output_type": "stream",
     "text": [
      "Wins: 1, Losses: 9, Ties: 0\n"
     ]
    },
    {
     "name": "stderr",
     "output_type": "stream",
     "text": [
      "\n"
     ]
    }
   ],
   "source": [
    "prompt = f\"\"\"당신은 요약 전문가입니다. 사용자 숙소 리뷰들이 주어졌을 때 요약하는 것이 당신의 목표입니다.\n",
    "\n",
    "요약 결과는 다음 조건들을 충족해야 합니다:\n",
    "1. 모든 문장은 항상 존댓말로 끝나야 합니다.\n",
    "2. 숙소에 대해 소개하는 톤앤매너로 작성해주세요.\n",
    "  2-1. 좋은 예시\n",
    "    a) 전반적으로 좋은 숙소였고 방음도 괜찮았다는 평입니다.\n",
    "    b) 재방문 예정이라는 평들이 존재합니다.\n",
    "  2-2. 나쁜 예시\n",
    "    a) 좋은 숙소였고 방음도 괜찮았습니다.\n",
    "    b) 재방문 예정입니다.\n",
    "3. 요약 결과는 최소 2문장, 최대 5문장 사이로 작성해주세요.\n",
    "    \n",
    "아래 숙소 리뷰들에 대해 요약해주세요:\"\"\"\n",
    "\n",
    "eval_count = 10\n",
    "summaries = [summarize(reviews, prompt, temperature=1.0).choices[0].message.content for _ in range(eval_count)]\n",
    "wins, losses, ties = pairwise_eval_batch(reviews, summaries, [summary_real_20240526 for _ in range(len(summaries))])\n",
    "print(f\"Wins: {wins}, Losses: {losses}, Ties: {ties}\")"
   ]
  },
  {
   "cell_type": "markdown",
   "metadata": {},
   "source": [
    "모델 고도화 2 - 입력 데이터의 품질 증가"
   ]
  },
  {
   "cell_type": "code",
   "execution_count": 17,
   "metadata": {},
   "outputs": [
    {
     "name": "stdout",
     "output_type": "stream",
     "text": [
      "22\n"
     ]
    }
   ],
   "source": [
    "import datetime\n",
    "from dateutil import parser\n",
    "\n",
    "def preprocess_reviews(path = './res/reviews.json'):\n",
    "    with open('./res/reviews.json', 'r', encoding='utf-8') as f:\n",
    "        review_list\n",
    "\n",
    "    reviews_good, reviews_bad = [], []\n",
    "\n",
    "    current_date = datetime.datetime.now()\n",
    "    date_boundary = current_date - datetime.timedelta(days = 6 * 30)\n",
    "\n",
    "    filtered_cnt = 0\n",
    "\n",
    "    for r in review_list:\n",
    "        review_date_str = r['date']\n",
    "        try:\n",
    "            review_date = parser.parse(review_date_str)\n",
    "        except(ValueError, TypeError):\n",
    "            review_date = current_date\n",
    "        \n",
    "        if review_date < date_boundary:\n",
    "            continue\n",
    "\n",
    "        if len(r['review']) < 30:\n",
    "            filtered_cnt += 1\n",
    "            continue\n",
    "\n",
    "\n",
    "        if r['stars'] == 5:\n",
    "            reviews_good.append('[REVIEW_START]' + r['review'] + '[REVIEW_END]')\n",
    "        else:\n",
    "            reviews_bad.append('[REVIEW_START]' + r['review'] + '[REVIEW_END]')\n",
    "    \n",
    "    reviews_good = reviews_good[:min(len(reviews_good), 50)]\n",
    "    reviews_bad = reviews_good[:min(len(reviews_bad), 50)]\n",
    "        \n",
    "    reviews_good_text = '\\n'.join(reviews_good)\n",
    "    reviews_bad_text = '\\n'.join(reviews_bad) \n",
    "\n",
    "    print(len(reviews_good))\n",
    "\n",
    "    return reviews_good_text, reviews_bad_text\n",
    "\n",
    "reviews, _ = preprocess_reviews()"
   ]
  },
  {
   "cell_type": "code",
   "execution_count": 18,
   "metadata": {},
   "outputs": [
    {
     "name": "stderr",
     "output_type": "stream",
     "text": [
      "100%|██████████| 10/10 [00:46<00:00,  4.69s/it]"
     ]
    },
    {
     "name": "stdout",
     "output_type": "stream",
     "text": [
      "Wins: 3, Losses: 7, Ties: 0\n"
     ]
    },
    {
     "name": "stderr",
     "output_type": "stream",
     "text": [
      "\n"
     ]
    }
   ],
   "source": [
    "eval_count = 10\n",
    "summaries = [summarize(reviews, prompt, temperature=1.0).choices[0].message.content for _ in range(eval_count)]\n",
    "wins, losses, ties = pairwise_eval_batch(reviews, summaries, [summary_real_20240526 for _ in range(len(summaries))])\n",
    "print(f\"Wins: {wins}, Losses: {losses}, Ties: {ties}\")"
   ]
  },
  {
   "cell_type": "markdown",
   "metadata": {},
   "source": [
    "모델 고도화 3 - Few-Shot Prompting"
   ]
  },
  {
   "cell_type": "code",
   "execution_count": 21,
   "metadata": {},
   "outputs": [
    {
     "name": "stdout",
     "output_type": "stream",
     "text": [
      "22\n"
     ]
    },
    {
     "name": "stderr",
     "output_type": "stream",
     "text": [
      "100%|██████████| 10/10 [00:46<00:00,  4.61s/it]"
     ]
    },
    {
     "name": "stdout",
     "output_type": "stream",
     "text": [
      "Wins: 2, Losses: 8, Ties: 0\n"
     ]
    },
    {
     "name": "stderr",
     "output_type": "stream",
     "text": [
      "\n"
     ]
    }
   ],
   "source": [
    "reviews_1shot, _ = preprocess_reviews('./res/ninetree_pangyo.json')\n",
    "summary_1shot = summarize(reviews_1shot, prompt, temperature=0.0, model='gpt-4-turbo-2024-04-09').choices[0].message.content\n",
    "prompt_1shot = f\"\"\"당신은 요약 전문가입니다. 사용자 숙소 리뷰들이 주어졌을 때 요약하는 것이 당신의 목표입니다.\n",
    "\n",
    "요약 결과는 다음 조건들을 충족해야 합니다:\n",
    "1. 모든 문장은 항상 존댓말로 끝나야 합니다.\n",
    "2. 숙소에 대해 소개하는 톤앤매너로 작성해주세요.\n",
    "  2-1. 좋은 예시\n",
    "    a) 전반적으로 좋은 숙소였고 방음도 괜찮았다는 평입니다.\n",
    "    b) 재방문 예정이라는 평들이 존재합니다.\n",
    "  2-2. 나쁜 예시\n",
    "    a) 좋은 숙소였고 방음도 괜찮았습니다.\n",
    "    b) 재방문 예정입니다.\n",
    "3. 요약 결과는 최소 2문장, 최대 5문장 사이로 작성해주세요.\n",
    "\n",
    "다음은 리뷰들과 요약 예시입니다.\n",
    "예시 리뷰들:\n",
    "{reviews_1shot}\n",
    "예시 요약 결과:\n",
    "{summary_1shot}\n",
    "    \n",
    "아래 숙소 리뷰들에 대해 요약해주세요:\"\"\"\n",
    "\n",
    "eval_count = 10\n",
    "summaries = [summarize(reviews, prompt, temperature=1.0, model = 'gpt-3.5-turbo-0125').choices[0].message.content for _ in range(eval_count)]\n",
    "wins, losses, ties = pairwise_eval_batch(reviews, summaries, [summary_real_20240526 for _ in range(len(summaries))])\n",
    "print(f\"Wins: {wins}, Losses: {losses}, Ties: {ties}\")"
   ]
  },
  {
   "cell_type": "code",
   "execution_count": 22,
   "metadata": {},
   "outputs": [
    {
     "name": "stderr",
     "output_type": "stream",
     "text": [
      "100%|██████████| 10/10 [00:41<00:00,  4.11s/it]"
     ]
    },
    {
     "name": "stdout",
     "output_type": "stream",
     "text": [
      "Wins: 8, Losses: 2, Ties: 0\n"
     ]
    },
    {
     "name": "stderr",
     "output_type": "stream",
     "text": [
      "\n"
     ]
    }
   ],
   "source": [
    "prompt_1shot = f\"\"\"당신은 요약 전문가입니다. 사용자 숙소 리뷰들이 주어졌을 때 요약하는 것이 당신의 목표입니다. 다음은 리뷰들과 요약 예시입니다.\n",
    "예시 리뷰들:\n",
    "{reviews_1shot}\n",
    "예시 요약 결과:\n",
    "{summary_1shot}\n",
    "    \n",
    "아래 숙소 리뷰들에 대해 요약해주세요:\"\"\"\n",
    "\n",
    "summaries = [summarize(reviews, prompt_1shot, temperature=1.0, model='gpt-3.5-turbo-0125').choices[0].message.content for _ in range(eval_count)]\n",
    "wins, losses, ties = pairwise_eval_batch(reviews, summaries, [summary_real_20240526 for _ in range(len(summaries))])\n",
    "print(f'Wins: {wins}, Losses: {losses}, Ties: {ties}')"
   ]
  },
  {
   "cell_type": "code",
   "execution_count": 23,
   "metadata": {},
   "outputs": [
    {
     "data": {
      "text/plain": [
       "['이 숙소는 지리적으로 매우 우수한 위치에 자리하고 있으며, 주변의 인사동, 광화문, 경복궁 등 주요 관광지에 쉽게 접근할 수 있다는 평가를 받고 있습니다. 또한, 숙소의 청결도와 직원들의 친절함이 높은 만족도를 이끌어내고 있으며, 편의시설의 접근성도 좋다는 의견이 많습니다. 다양한 이용객들이 재방문을 원하며, 전체적으로 긍정적인 리뷰가 많은 것으로 보입니다. 방음에 대한 소란을 경험한 의견도 있지만, 숙박 경험을 즐기는 이용객들이 많아 전반적으로 좋은 성향을 보이고 있습니다.',\n",
       " '이 숙소는 지리적으로 매우 우수한 위치에 자리하고 있으며, 주변의 인사동, 광화문, 경복궁 등 주요 관광지에 쉽게 접근할 수 있다는 평가를 받고 있습니다. 숙소 내 청결도와 직원들의 친절함이 높게 평가되었고, 편의시설의 접근성도 좋다는 의견이 많이 나왔습니다. 재방문 의사를 밝힌 이용객들도 많아, 전반적으로 서비스 품질이 우수하다는 인상을 줍니다. 방음에 대한 아쉬움을 표현한 의견도 있지만, 대체로 숙소에 대한 긍정적인 리뷰가 많은 것으로 보입니다.',\n",
       " '숙소는 지리적으로 우수한 위치에 자리해 있어서 주변 관광지에 쉽게 접근할 수 있고, 청결도와 직원 서비스가 좋은 평가를 받고 있습니다. 재방문 의사가 높은 곳으로, 방음이 아쉬운 점은 있지만 대체로 긍정적인 리뷰가 많이 있습니다. 위치, 서비스, 시설 등 모든면에 대해 만족하며 다음 여행에도 묵고 싶은 곳으로 추천받고 있습니다.',\n",
       " '이 숙소는 지리적으로 매우 우수한 위치에 자리하고 있으며, 주변의 인사동, 광화문, 경복궁 등 주요 관광지에 쉽게 접근할 수 있다는 평가를 받고 있습니다. 또한, 숙소의 청결도와 직원들의 친절함이 높은 만족도를 이끌어내고 있으며, 편의시설의 접근성도 좋다는 의견이 많습니다. 여러 번 재방문할 의사를 밝힌 이용객들도 많아, 숙소의 전반적인 서비스 품질이 우수하다는 것을 알 수 있습니다. 방음에 대한 아쉬움을 표현한 소수의 의견도 있으나, 대체로 숙소에 대한 긍정적인 리뷰가 주를 이루고 있습니다.',\n",
       " '이 숙소는 지리적으로 매우 우수한 위치에 자리하고 있으며, 주변의 인사동, 광화문, 경복궁 등 주요 관광지에 쉽게 접근할 수 있다는 평가를 받고 있습니다. 또한, 숙소의 청결도와 직원들의 친절함이 높은 만족도를 이끌어내고 있으며, 편의시설의 접근성도 좋다는 의견이 많습니다. 다수의 이용객들이 재방문할 의사를 밝히며, 전반적인 서비스 품질이 우수하다는 평가를 받고 있습니다. 방음에 대한 아쉬움을 표현한 소수의 의견도 있지만, 주로 긍정적인 리뷰가 지배적입니다.',\n",
       " '이 숙소는 지리적으로 우수한 위치에 자리하고 있으며, 주변 관광지에 대한 접근성이 매우 좋다는 평가를 받고 있습니다. 숙소의 청결도와 직원들의 친절함이 언급되며, 주변 시설을 편리하게 이용할 수 있다는 의견이 많이 나왔습니다. 특히, 재방문 의사가 높으며, 전반적으로 긍정적인 리뷰가 많이 보입니다. 일부 피드백은 방음에 대한 아쉬움을 표현했지만, 숙박에 대한 전반적인 만족도가 높은 편입니다.',\n",
       " '이 숙소는 지리적으로 매우 우수한 위치에 자리하고 있으며, 주변의 인사동, 광화문, 경복궁 등 주요 관광지에 쉽게 접근할 수 있다는 평가를 받고 있습니다. 숙소는 청결하며 프론트 데스크 직원들의 친절함도 높게 평가받고 있습니다. 또한, 주변의 맛집과 근접성이 좋아 인사동쪽으로의 방문을 권장하는 의견도 있습니다. 이용객들은 주변 교통 및 시설에 대한 만족도가 높은 편이며, 숙소의 서비스 품질이 우수하다는 평을 받고 있습니다. 위치나 시설에 대한 긍정적인 평가가 많아, 다수의 방문의사를 나타내는 의견도 있습니다. 하지만, 방음에 대해 아쉬움을 표현하는 의견도 일부 존재합니다. 전체적으로 긍정적인 리뷰가 주를 이루고 있습니다.',\n",
       " '다양한 숙박시설 리뷰를 통해 종로, 광화문, 경복궁, 광장시장, 인사동 등 주요 관광지와의 접근성이 뛰어나며, 숙소는 청결하고 프론트 직원들의 친절함이 높게 평가되고 있습니다. 또한, 주변 시설과 교통편이 좋아 이용객들에게 많은 만족을 준다는 평가가 많이 있습니다. 재방문 의사가 높은 곳으로, 전반적으로 긍정적인 리뷰가 많이 나오고 있습니다. 방음이나 서비스의 소란에 대한 언급도 일부 있지만, 대체로 좋은 평가를 받고 있습니다. 위치, 서비스, 시설 등이 우수하다는 평가가 대부분을 차지하고 있습니다.',\n",
       " '다수의 리뷰에서는 숙소의 지리적 위치가 매우 우수하다는 평가가 많이 나왔습니다. 또한, 숙소의 청결도와 직원들의 친절함에 대한 긍정적인 의견도 많이 보였습니다. 주변 시설과 교통편의 편리성에 대한 언급도 있었으며, 다수의 이용객들이 재방문할 의사를 밝힌 것으로 보입니다. 몇몇 리뷰에서는 방음에 대한 아쉬움이 언급되었지만, 전체적으로 숙소에 대한 긍정적인 평가가 많이 나왔습니다.',\n",
       " '이 숙소는 지리적으로 우수한 위치에 자리하고 있으며, 주변의 인사동, 광화문, 경복궁 등 주요 관광지에 쉽게 접근할 수 있는 것으로 평가되었습니다. 또한 숙소는 청결하고 직원들의 친절함이 높게 평가되었으며, 편의시설의 접근성도 좋다는 의견을 받았습니다. 재방문을 희망하는 이용객들도 많은데, 숙소의 전반적인 서비스 품질이 우수하다는 것을 보여줍니다. 방음에 대한 아쉬움을 표현한 의견도 있지만, 대체로 긍정적인 리뷰가 주를 이루고 있습니다.']"
      ]
     },
     "execution_count": 23,
     "metadata": {},
     "output_type": "execute_result"
    }
   ],
   "source": [
    "summaries"
   ]
  },
  {
   "cell_type": "code",
   "execution_count": 24,
   "metadata": {},
   "outputs": [
    {
     "name": "stdout",
     "output_type": "stream",
     "text": [
      "22\n"
     ]
    }
   ],
   "source": [
    "reviews_1shot, _ = preprocess_reviews('./res/ninetree_pangyo.json')\n",
    "summary_1shot = summarize(reviews_1shot, prompt, temperature=0.0, model='gpt-4-turbo-2024-04-09').choices[0].message.content"
   ]
  },
  {
   "cell_type": "code",
   "execution_count": 25,
   "metadata": {},
   "outputs": [
    {
     "name": "stdout",
     "output_type": "stream",
     "text": [
      "22\n"
     ]
    },
    {
     "name": "stderr",
     "output_type": "stream",
     "text": [
      "100%|██████████| 10/10 [00:40<00:00,  4.08s/it]"
     ]
    },
    {
     "name": "stdout",
     "output_type": "stream",
     "text": [
      "Wins: 10, Losses: 0, Ties: 0\n"
     ]
    },
    {
     "name": "stderr",
     "output_type": "stream",
     "text": [
      "\n"
     ]
    }
   ],
   "source": [
    "reviews_2shot, _ = preprocess_reviews('./res/ninetree_yongsan.json')\n",
    "summary_2shot = summarize(reviews_2shot, prompt_1shot, temperature=0.0, model='gpt-4-turbo-2024-04-09').choices[0].message.content\n",
    "\n",
    "prompt_2shot = f\"\"\"당신은 요약 전문가입니다. 사용자 숙소 리뷰들이 주어졌을 때 요약하는 것이 당신의 목표입니다. 다음은 리뷰들과 요약 예시입니다.\n",
    "\n",
    "예시 리뷰들 1:\n",
    "{reviews_1shot}\n",
    "예시 요약 결과 1:\n",
    "{summary_1shot}\n",
    "\n",
    "예시 리뷰들 2:\n",
    "{reviews_2shot}\n",
    "예시 요약 결과 2:\n",
    "{summary_2shot}\n",
    "    \n",
    "아래 숙소 리뷰들에 대해 요약해주세요:\"\"\"\n",
    "\n",
    "summaries = [summarize(reviews, prompt_2shot, temperature=1.0, model='gpt-3.5-turbo-0125').choices[0].message.content for _ in range(eval_count)]\n",
    "wins, losses, ties = pairwise_eval_batch(reviews, summaries, [summary_real_20240526 for _ in range(len(summaries))])\n",
    "print(f'Wins: {wins}, Losses: {losses}, Ties: {ties}')"
   ]
  },
  {
   "cell_type": "code",
   "execution_count": null,
   "metadata": {},
   "outputs": [],
   "source": []
  }
 ],
 "metadata": {
  "kernelspec": {
   "display_name": "myenv",
   "language": "python",
   "name": "python3"
  },
  "language_info": {
   "codemirror_mode": {
    "name": "ipython",
    "version": 3
   },
   "file_extension": ".py",
   "mimetype": "text/x-python",
   "name": "python",
   "nbconvert_exporter": "python",
   "pygments_lexer": "ipython3",
   "version": "3.11.4"
  }
 },
 "nbformat": 4,
 "nbformat_minor": 2
}
